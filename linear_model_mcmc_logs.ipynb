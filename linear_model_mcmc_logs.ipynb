{
 "cells": [
  {
   "cell_type": "code",
   "execution_count": 1,
   "metadata": {},
   "outputs": [],
   "source": [
    "import numpy as np\n",
    "np.random.seed(42)\n",
    "import matplotlib.pyplot as plt\n",
    "plt.style.use('dark_background')\n",
    "from scipy.stats import norm"
   ]
  },
  {
   "cell_type": "code",
   "execution_count": 2,
   "metadata": {},
   "outputs": [
    {
     "data": {
      "image/png": "[encoded data removed]",
      "text/plain": [
       "<Figure size 432x288 with 1 Axes>"
      ]
     },
     "metadata": {},
     "output_type": "display_data"
    }
   ],
   "source": [
    "# model: y=ax+b, \"find a, b\" (linear simple regression, but Bayesian version)\n",
    "# generate some manually/randomly done data pairs (xi,yi) that you can plot as scatter plot\n",
    "# define a likelihood for measurement errors, e.g. Gaussian with mean 0 and some measurement error variance (typically smaller than the variance of the y-data)\n",
    "\n",
    "true_a = 3\n",
    "true_b = 2\n",
    "true_meas_stdev = 5\n",
    "samples = 50\n",
    "\n",
    "# x-values\n",
    "x = np.linspace(start=0, stop=20, num=samples)\n",
    "\n",
    "# y-values <-- ax + b + N(0,stdv)\n",
    "y =  true_a*x + true_b + np.random.normal(loc=0, scale=true_meas_stdev, size=samples)\n",
    "\n",
    "# Plot\n",
    "fig, ax = plt.subplots(nrows=1, ncols=1)\n",
    "ax.scatter(x, y, marker='o')\n",
    "plt.show()"
   ]
  },
  {
   "cell_type": "code",
   "execution_count": 3,
   "metadata": {},
   "outputs": [
    {
     "name": "stdout",
     "output_type": "stream",
     "text": [
      "Least squares:\n",
      "a: 2.855\n",
      "b: 2.322\n"
     ]
    }
   ],
   "source": [
    "# Check least squares linear regression\n",
    "from sklearn.linear_model import LinearRegression\n",
    "lr = LinearRegression().fit(np.matrix(x).T.A, y)\n",
    "print(f'Least squares:\\na: {lr.coef_[0]:.3f}\\nb: {lr.intercept_:.3f}')"
   ]
  },
  {
   "cell_type": "code",
   "execution_count": 4,
   "metadata": {},
   "outputs": [],
   "source": [
    "# - define a prior on the parameters a, b (e.g. independent, Gauss, zero mean, large variance so that a and b can take on values that would fit the data)\n",
    "stdev_a = 5\n",
    "stdev_b = 5\n",
    "stdev_e = 5\n",
    "\n",
    "# - choose a proposal density (e.g. Gaussian, centered on current values, and a stdev found by trial and error*)\n",
    "stdev_prop = 0.15"
   ]
  },
  {
   "cell_type": "code",
   "execution_count": 6,
   "metadata": {},
   "outputs": [],
   "source": [
    "from mcmc_functions import *"
   ]
  },
  {
   "cell_type": "code",
   "execution_count": null,
   "metadata": {},
   "outputs": [],
   "source": []
  },
  {
   "cell_type": "code",
   "execution_count": null,
   "metadata": {},
   "outputs": [],
   "source": [
    "# Initial values\n",
    "initial_a = 4\n",
    "initial_b = 1.5\n",
    "\n",
    "# Initial Posteriors\n",
    "post_initial_a, post_initial_b = calc_posteriors([initial_a, initial_b], x, y, [prior_a, prior_b])\n",
    "\n",
    "# Setup first row\n",
    "initial_samples = [\n",
    "    initial_a,\n",
    "    initial_b,\n",
    "    post_initial_a,\n",
    "    post_initial_b\n",
    "    ]\n",
    "\n",
    "print(initial_samples)"
   ]
  },
  {
   "cell_type": "code",
   "execution_count": null,
   "metadata": {},
   "outputs": [],
   "source": [
    "iter = 50000\n",
    "samples_a_b, accepted_a, accepted_b = metropolis_hastings(initial_samples, iter)\n",
    "print(\n",
    "        f'Iterations: {iter}\\n\\\n",
    "        Accepted a\\'s: {accepted_a}\\n\\\n",
    "        Acceptance rate a\\'s: {(accepted_a/(iter-1))*100:.2f}%\\n\\\n",
    "        Accepted b\\'s: {accepted_b}\\n\\\n",
    "        Acceptance rate b\\'s: {(accepted_b/(iter-1))*100:.2f}%'\n",
    "        )"
   ]
  },
  {
   "cell_type": "code",
   "execution_count": null,
   "metadata": {},
   "outputs": [],
   "source": [
    "# Set burn in and analyze the data\n",
    "import pandas as pd\n",
    "burn_in = int(0.1*iter)\n",
    "samples = pd.DataFrame(samples_a_b[burn_in:np.shape(samples_a_b)[0], :], columns=['a', 'b', 'post_a', 'post_b'])"
   ]
  },
  {
   "cell_type": "code",
   "execution_count": null,
   "metadata": {},
   "outputs": [],
   "source": [
    "print(f'Rows in the original markov chain: {np.shape(samples_a_b)[0]}.')\n",
    "print(f'Rows in the \\\"burned\\\" markov chain: {samples.shape[0]}.')"
   ]
  },
  {
   "cell_type": "code",
   "execution_count": null,
   "metadata": {},
   "outputs": [],
   "source": [
    "def mode_data(data, num_bins):\n",
    "    p_hist, bin_hist, _ = plt.hist(data, bins=num_bins)\n",
    "    plt.close()\n",
    "    max_count_entry = np.argmax(p_hist)\n",
    "    return p_hist[max_count_entry], (bin_hist[max_count_entry-1] + bin_hist[max_count_entry])/2\n",
    "\n",
    "mode_data(samples_a_b[:,0],100)\n",
    "\n",
    "num_bins = 100\n",
    "count_a, mode_a = mode_data(samples['a'], num_bins)\n",
    "count_b, mode_b = mode_data(samples['b'], num_bins)\n",
    "\n",
    "print(f'MCMC approach:\\nMean a: {mode_a:.3f}\\nMean b: {mode_b:.3f}')\n",
    "print(f'\\nLeast squares:\\na: {lr.coef_[0]:.3f}\\nb: {lr.intercept_:.3f}')"
   ]
  },
  {
   "cell_type": "code",
   "execution_count": null,
   "metadata": {},
   "outputs": [],
   "source": [
    "# Plots!\n",
    "# visualize the history of a,b samples in a 2D \"trace plot\"\n",
    "cm = 1/2.54\n",
    "\n",
    "fig, axes = plt.subplots(nrows=1, ncols=2, figsize=(15.9*cm, 8*cm))\n",
    "fig.tight_layout()\n",
    "\n",
    "# Plot A\n",
    "axes[0].plot(samples['a'])\n",
    "axes[0].hlines(mode_a, color='r', xmin=0, xmax=iter-burn_in)\n",
    "axes[0].set_title('Samples \\'a\\'')\n",
    "\n",
    "# Plot B\n",
    "axes[1].plot(samples['b'])\n",
    "axes[1].hlines(mode_b, color='r', xmin=0, xmax=iter-burn_in)\n",
    "axes[1].set_title('Samples \\'b\\'')\n",
    "\n",
    "plt.savefig('plots/trace plot.png', dpi=300)\n",
    "plt.show()"
   ]
  },
  {
   "cell_type": "code",
   "execution_count": null,
   "metadata": {},
   "outputs": [],
   "source": [
    "# visualize the results as a set of, e.g., 100 versions of y=ax+b into the scatter plot\n",
    "fig, axes = plt.subplots(nrows=1, ncols=1, figsize=(15.9*cm, 8*cm))\n",
    "fig.tight_layout()\n",
    "\n",
    "for i in range(100):\n",
    "    j = np.random.randint(0, iter-burn_in-1)\n",
    "    a = samples['a'][j]\n",
    "    b = samples['b'][j]\n",
    "    y_conf = a*x + b\n",
    "    axes.plot(x, y_conf)\n",
    "\n",
    "y_mean = mode_a*x + mode_b\n",
    "axes.plot(x, y_mean, color='r', linewidth=3)\n",
    "axes.scatter(x, y, marker='o')\n",
    "axes.set_xlabel('\\'x\\'')\n",
    "axes.set_ylabel('\\'y\\'')\n",
    "\n",
    "plt.savefig('plots/100 plots.png', dpi=300)\n",
    "plt.show()"
   ]
  },
  {
   "cell_type": "code",
   "execution_count": null,
   "metadata": {},
   "outputs": [],
   "source": [
    "# plot a scatterplot of a,b; histograms of a and of b\n",
    "fig, axes = plt.subplots(nrows=1, ncols=1, figsize=(15.9*cm, 8*cm))\n",
    "fig.tight_layout()\n",
    "axes.plot(samples['a'], samples['b'], '.', markersize=1)\n",
    "axes.set_xlabel('\\'a\\'')\n",
    "axes.set_ylabel('\\'b\\'')\n",
    "axes.hlines(mode_b, color='r', xmin=min(samples['a']), xmax=max(samples['a']))\n",
    "axes.vlines(mode_a, color='r', ymin=min(samples['b']), ymax=max(samples['b']))\n",
    "plt.savefig('plots/scatter.png', dpi=300)\n",
    "plt.show()"
   ]
  },
  {
   "cell_type": "code",
   "execution_count": null,
   "metadata": {},
   "outputs": [],
   "source": [
    "# 2D histogram\n",
    "fig, axes = plt.subplots(nrows=1, ncols=1, figsize=(15.9*cm, 8*cm))\n",
    "fig.tight_layout()\n",
    "axes.hist2d(samples['a'], samples['b'], bins=num_bins, cmap='inferno')\n",
    "axes.set_xlabel('\\'a\\'')\n",
    "axes.set_ylabel('\\'b\\'')\n",
    "plt.savefig('plots/2d_hist.png', dpi=300)\n",
    "plt.show()"
   ]
  },
  {
   "cell_type": "code",
   "execution_count": null,
   "metadata": {},
   "outputs": [],
   "source": [
    "fig, axes = plt.subplots(nrows=1, ncols=2, figsize=(15.9*cm, 8*cm))\n",
    "fig.tight_layout()\n",
    "\n",
    "# Plot A\n",
    "axes[0].hist(samples['a'], bins=num_bins)\n",
    "axes[0].vlines(mode_a, color='r', ymin=0, ymax=count_a)\n",
    "axes[0].set_title('Samples \\'a\\'')\n",
    "\n",
    "# Plot B\n",
    "axes[1].hist(samples['b'], bins=num_bins)\n",
    "axes[1].vlines(mode_b, color='r', ymin=0, ymax=count_b)\n",
    "axes[1].set_title('Samples \\'b\\'')\n",
    "\n",
    "plt.savefig('plots/histograms.png', dpi=300)\n",
    "plt.show()"
   ]
  },
  {
   "cell_type": "code",
   "execution_count": null,
   "metadata": {},
   "outputs": [],
   "source": [
    "# Plots!\n",
    "# visualize the history of a,b samples in a 2D \"trace plot\"\n",
    "cm = 1/2.54\n",
    "\n",
    "fig, axes = plt.subplots(nrows=1, ncols=2, figsize=(15.9*cm, 8*cm))\n",
    "fig.tight_layout()\n",
    "\n",
    "# Plot A\n",
    "axes[0].plot(samples['post_a'])\n",
    "# axes[0].hlines(mode_a, color='r', xmin=0, xmax=iter)\n",
    "axes[0].set_ylim([-159,-148])\n",
    "axes[0].set_title('Samples \\'a\\'')\n",
    "\n",
    "# Plot B\n",
    "axes[1].plot(samples['post_b'])\n",
    "# axes[1].hlines(mode_b, color='r', xmin=0, xmax=iter)\n",
    "axes[1].set_ylim([-159,-148])\n",
    "axes[1].set_title('Samples \\'b\\'')\n",
    "\n",
    "plt.savefig('plots/post_trace_plot.png', dpi=300)\n",
    "plt.show()"
   ]
  },
  {
   "cell_type": "code",
   "execution_count": null,
   "metadata": {},
   "outputs": [],
   "source": [
    "# std dev proposal?\n",
    "\n",
    "iter = 1000\n",
    "rates_a, rates_b = [], []\n",
    "test_stdev_proposal = np.linspace(0.01,1,50)\n",
    "\n",
    "for e in test_stdev_proposal:\n",
    "    stdev_prop = e\n",
    "    samples_a_b, accepted_a, accepted_b = metropolis_hastings(initial_samples, iter)\n",
    "    rates_a.append(accepted_a/(iter-1))\n",
    "    rates_b.append(accepted_b/(iter-1))\n"
   ]
  },
  {
   "cell_type": "code",
   "execution_count": null,
   "metadata": {},
   "outputs": [],
   "source": [
    "#Plot\n",
    "\n",
    "fig, axes = plt.subplots(nrows=1, ncols=2, figsize=(15.9*cm, 8*cm))\n",
    "fig.tight_layout()\n",
    "\n",
    "# Plot A\n",
    "axes[0].plot(test_stdev_proposal, rates_a)\n",
    "axes[0].set_title('Acceptance rates: \\'a\\'')\n",
    "axes[0].set_xlabel('stdev proposal')\n",
    "\n",
    "# Plot B\n",
    "axes[1].plot(test_stdev_proposal, rates_b)\n",
    "axes[1].set_title('Acceptance rates: \\'b\\'')\n",
    "axes[1].set_xlabel('stdev proposal')\n",
    "\n",
    "plt.savefig('plots/stdev_acceptance_rates.png', dpi=300)\n",
    "plt.show()"
   ]
  }
 ],
 "metadata": {
  "interpreter": {
   "hash": "652df1fb7fdcda80b69e7f9ac464bf7cfecbf31578f5d2cb59dda1aacc69e331"
  },
  "kernelspec": {
   "display_name": "Python 3.10.2 64-bit",
   "language": "python",
   "name": "python3"
  },
  "language_info": {
   "codemirror_mode": {
    "name": "ipython",
    "version": 3
   },
   "file_extension": ".py",
   "mimetype": "text/x-python",
   "name": "python",
   "nbconvert_exporter": "python",
   "pygments_lexer": "ipython3",
   "version": "3.9.7"
  },
  "orig_nbformat": 4
 },
 "nbformat": 4,
 "nbformat_minor": 2
}
